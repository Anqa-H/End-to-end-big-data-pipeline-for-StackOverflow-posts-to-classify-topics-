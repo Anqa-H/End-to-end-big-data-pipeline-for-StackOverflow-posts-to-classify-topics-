{
 "cells": [
  {
   "cell_type": "code",
   "execution_count": 0,
   "metadata": {
    "application/vnd.databricks.v1+cell": {
     "cellMetadata": {
      "byteLimit": 2048000,
      "rowLimit": 10000
     },
     "inputWidgets": {},
     "nuid": "e1c12ad0-b911-499e-adfa-3db412b0c0d8",
     "showTitle": false,
     "title": ""
    }
   },
   "outputs": [
    {
     "output_type": "stream",
     "name": "stdout",
     "output_type": "stream",
     "text": [
      "/mnt/deBDProject has been unmounted.\n"
     ]
    },
    {
     "output_type": "execute_result",
     "data": {
      "text/plain": [
       "True"
      ]
     },
     "execution_count": 14,
     "metadata": {},
     "output_type": "execute_result"
    }
   ],
   "source": [
    "# Unmount\n",
    "dbutils.fs.unmount(\"/mnt/deBDProject\")"
   ]
  },
  {
   "cell_type": "code",
   "execution_count": 0,
   "metadata": {
    "application/vnd.databricks.v1+cell": {
     "cellMetadata": {
      "byteLimit": 2048000,
      "rowLimit": 10000
     },
     "inputWidgets": {},
     "nuid": "3a8affad-446f-4285-9308-8e1474dcd7e0",
     "showTitle": false,
     "title": ""
    }
   },
   "outputs": [
    {
     "output_type": "display_data",
     "data": {
      "text/html": [
       "<style scoped>\n",
       "  .table-result-container {\n",
       "    max-height: 300px;\n",
       "    overflow: auto;\n",
       "  }\n",
       "  table, th, td {\n",
       "    border: 1px solid black;\n",
       "    border-collapse: collapse;\n",
       "  }\n",
       "  th, td {\n",
       "    padding: 5px;\n",
       "  }\n",
       "  th {\n",
       "    text-align: left;\n",
       "  }\n",
       "</style><div class='table-result-container'><table class='table-result'><thead style='background-color: white'><tr><th>name</th></tr></thead><tbody><tr><td>akv_secrets</td></tr><tr><td>akv_secrets_capstoneProject</td></tr></tbody></table></div>"
      ]
     },
     "metadata": {
      "application/vnd.databricks.v1+output": {
       "addedWidgets": {},
       "aggData": [],
       "aggError": "",
       "aggOverflow": false,
       "aggSchema": [],
       "aggSeriesLimitReached": false,
       "aggType": "",
       "arguments": {},
       "columnCustomDisplayInfos": {},
       "data": [
        [
         "akv_secrets"
        ],
        [
         "akv_secrets_capstoneProject"
        ]
       ],
       "datasetInfos": [],
       "dbfsResultPath": null,
       "isJsonSchema": true,
       "metadata": {},
       "overflow": false,
       "plotOptions": {
        "customPlotOptions": {},
        "displayType": "table",
        "pivotAggregation": null,
        "pivotColumns": null,
        "xColumns": null,
        "yColumns": null
       },
       "removedWidgets": [],
       "schema": [
        {
         "metadata": "{}",
         "name": "name",
         "type": "\"string\""
        }
       ],
       "type": "table"
      }
     },
     "output_type": "display_data"
    }
   ],
   "source": [
    "# Displaying the list of secret scopes\n",
    "display(dbutils.secrets.listScopes())\n"
   ]
  },
  {
   "cell_type": "code",
   "execution_count": 0,
   "metadata": {
    "application/vnd.databricks.v1+cell": {
     "cellMetadata": {
      "byteLimit": 2048000,
      "rowLimit": 10000
     },
     "inputWidgets": {},
     "nuid": "9ffe8c6d-821d-475b-a036-3e2fa88f9b23",
     "showTitle": false,
     "title": ""
    }
   },
   "outputs": [
    {
     "output_type": "execute_result",
     "data": {
      "text/plain": [
       "[SecretScope(name='akv_secrets_capstoneProject')]"
      ]
     },
     "execution_count": 19,
     "metadata": {},
     "output_type": "execute_result"
    }
   ],
   "source": [
    "dbutils.secrets.listScopes()"
   ]
  },
  {
   "cell_type": "code",
   "execution_count": 0,
   "metadata": {
    "application/vnd.databricks.v1+cell": {
     "cellMetadata": {},
     "inputWidgets": {},
     "nuid": "804075e9-13f3-4c36-a8d9-3be604819698",
     "showTitle": false,
     "title": ""
    }
   },
   "outputs": [],
   "source": [
    "#akv_secrets\n",
    "#= dbutils.secrets.get(scope=\"akv_secrets\",key=\"\")"
   ]
  },
  {
   "cell_type": "code",
   "execution_count": 0,
   "metadata": {
    "application/vnd.databricks.v1+cell": {
     "cellMetadata": {
      "byteLimit": 2048000,
      "rowLimit": 10000
     },
     "inputWidgets": {},
     "nuid": "a23c72e9-ca05-4d77-9f3d-87e279bdd46c",
     "showTitle": false,
     "title": ""
    }
   },
   "outputs": [
    {
     "output_type": "execute_result",
     "data": {
      "text/plain": [
       "True"
      ]
     },
     "execution_count": 5,
     "metadata": {},
     "output_type": "execute_result"
    }
   ],
   "source": [
    "# Retrieve the Azure Storage account name from Databricks Secrets\n",
    "storageAccountName = dbutils.secrets.get(scope=\"akv_secrets\", key=\"storageAccountName\")\n",
    "\n",
    "# Retrieve the container name from Databricks Secrets\n",
    "containerName = dbutils.secrets.get(scope=\"akv_secrets\", key=\"containerName\")\n",
    "\n",
    "# Retrieve the application ID for authentication from Databricks Secrets\n",
    "applicationId = dbutils.secrets.get(scope=\"akv_secrets\", key=\"applicationId\")\n",
    "\n",
    "# Retrieve the secret value associated with the application ID from Databricks Secrets\n",
    "secretValue = dbutils.secrets.get(scope=\"akv_secrets\", key=\"secretValue\")\n",
    "\n",
    "# Retrieve the directory (tenant) ID associated with Azure Active Directory from Databricks Secrets\n",
    "directoryID = dbutils.secrets.get(scope=\"akv_secrets\", key=\"directoryID\")\n",
    "\n",
    "# Construct the authentication endpoint URL for Azure Active Directory\n",
    "endpoint = 'https://login.microsoftonline.com/' + directoryID + '/oauth2/token'\n",
    "\n",
    "# Construct the source URL for accessing the Azure Storage account and container\n",
    "source = 'abfss://' + containerName + '@' + storageAccountName + '.dfs.core.windows.net/'\n",
    "\n",
    "# Define the local mount point where the Azure Storage will be mounted\n",
    "mountPoint = \"/mnt/deBDProject\"\n",
    "\n",
    "# Define configurations required for mounting Azure Storage using Databricks Utilities (dbutils)\n",
    "configs = {\n",
    "  \"fs.azure.account.auth.type\": \"OAuth\",  # Authentication type is OAuth\n",
    "  \"fs.azure.account.oauth.provider.type\": \"org.apache.hadoop.fs.azurebfs.oauth2.ClientCredsTokenProvider\",  # OAuth provider type\n",
    "  \"fs.azure.account.oauth2.client.id\": applicationId,  # Application ID for OAuth\n",
    "  \"fs.azure.account.oauth2.client.secret\": secretValue,  # Secret value for OAuth\n",
    "  \"fs.azure.account.oauth2.client.endpoint\": endpoint  # Authentication endpoint URL\n",
    "}\n",
    "\n",
    "# Mount Azure Storage to the specified mount point using Databricks Utilities (dbutils)\n",
    "dbutils.fs.mount(source=source, mount_point=mountPoint, extra_configs=configs)\n"
   ]
  },
  {
   "cell_type": "code",
   "execution_count": 0,
   "metadata": {
    "application/vnd.databricks.v1+cell": {
     "cellMetadata": {
      "byteLimit": 2048000,
      "rowLimit": 10000
     },
     "inputWidgets": {},
     "nuid": "497408a1-3fc3-44f4-a66b-573b6d6578de",
     "showTitle": false,
     "title": ""
    }
   },
   "outputs": [
    {
     "output_type": "execute_result",
     "data": {
      "text/plain": [
       "[MountInfo(mountPoint='/databricks-datasets', source='databricks-datasets', encryptionType=''),\n",
       " MountInfo(mountPoint='/Volumes', source='UnityCatalogVolumes', encryptionType=''),\n",
       " MountInfo(mountPoint='/databricks/mlflow-tracking', source='databricks/mlflow-tracking', encryptionType=''),\n",
       " MountInfo(mountPoint='/databricks-results', source='databricks-results', encryptionType=''),\n",
       " MountInfo(mountPoint='/databricks/mlflow-registry', source='databricks/mlflow-registry', encryptionType=''),\n",
       " MountInfo(mountPoint='/mnt/deBDProject', source='abfss://[REDACTED]@[REDACTED].dfs.core.windows.net/', encryptionType=''),\n",
       " MountInfo(mountPoint='/Volume', source='DbfsReserved', encryptionType=''),\n",
       " MountInfo(mountPoint='/volumes', source='DbfsReserved', encryptionType=''),\n",
       " MountInfo(mountPoint='/', source='DatabricksRoot', encryptionType=''),\n",
       " MountInfo(mountPoint='/volume', source='DbfsReserved', encryptionType='')]"
      ]
     },
     "execution_count": 6,
     "metadata": {},
     "output_type": "execute_result"
    }
   ],
   "source": [
    "# Retrieve information about the currently mounted file systems in the Databricks cluster.\n",
    "# This function returns a list of dictionaries, each containing details about a mounted file system.\n",
    "dbutils.fs.mounts()"
   ]
  },
  {
   "cell_type": "code",
   "execution_count": 0,
   "metadata": {
    "application/vnd.databricks.v1+cell": {
     "cellMetadata": {
      "byteLimit": 2048000,
      "rowLimit": 10000
     },
     "inputWidgets": {},
     "nuid": "9ac3510d-62a8-431c-bd8d-bf1410163559",
     "showTitle": false,
     "title": ""
    }
   },
   "outputs": [
    {
     "output_type": "display_data",
     "data": {
      "text/html": [
       "<style scoped>\n",
       "  .table-result-container {\n",
       "    max-height: 300px;\n",
       "    overflow: auto;\n",
       "  }\n",
       "  table, th, td {\n",
       "    border: 1px solid black;\n",
       "    border-collapse: collapse;\n",
       "  }\n",
       "  th, td {\n",
       "    padding: 5px;\n",
       "  }\n",
       "  th {\n",
       "    text-align: left;\n",
       "  }\n",
       "</style><div class='table-result-container'><table class='table-result'><thead style='background-color: white'><tr><th>path</th><th>name</th><th>size</th><th>modificationTime</th></tr></thead><tbody><tr><td>dbfs:/mnt/deBDProject/BI/</td><td>BI/</td><td>0</td><td>1715510375000</td></tr><tr><td>dbfs:/mnt/deBDProject/landing/</td><td>landing/</td><td>0</td><td>1715207548000</td></tr><tr><td>dbfs:/mnt/deBDProject/ml_training/</td><td>ml_training/</td><td>0</td><td>1715429753000</td></tr><tr><td>dbfs:/mnt/deBDProject/model/</td><td>model/</td><td>0</td><td>1715469894000</td></tr><tr><td>dbfs:/mnt/deBDProject/stringindexer/</td><td>stringindexer/</td><td>0</td><td>1715469905000</td></tr></tbody></table></div>"
      ]
     },
     "metadata": {
      "application/vnd.databricks.v1+output": {
       "addedWidgets": {},
       "aggData": [],
       "aggError": "",
       "aggOverflow": false,
       "aggSchema": [],
       "aggSeriesLimitReached": false,
       "aggType": "",
       "arguments": {},
       "columnCustomDisplayInfos": {},
       "data": [
        [
         "dbfs:/mnt/deBDProject/BI/",
         "BI/",
         0,
         1715510375000
        ],
        [
         "dbfs:/mnt/deBDProject/landing/",
         "landing/",
         0,
         1715207548000
        ],
        [
         "dbfs:/mnt/deBDProject/ml_training/",
         "ml_training/",
         0,
         1715429753000
        ],
        [
         "dbfs:/mnt/deBDProject/model/",
         "model/",
         0,
         1715469894000
        ],
        [
         "dbfs:/mnt/deBDProject/stringindexer/",
         "stringindexer/",
         0,
         1715469905000
        ]
       ],
       "datasetInfos": [],
       "dbfsResultPath": null,
       "isJsonSchema": true,
       "metadata": {},
       "overflow": false,
       "plotOptions": {
        "customPlotOptions": {},
        "displayType": "table",
        "pivotAggregation": null,
        "pivotColumns": null,
        "xColumns": null,
        "yColumns": null
       },
       "removedWidgets": [],
       "schema": [
        {
         "metadata": "{}",
         "name": "path",
         "type": "\"string\""
        },
        {
         "metadata": "{}",
         "name": "name",
         "type": "\"string\""
        },
        {
         "metadata": "{}",
         "name": "size",
         "type": "\"long\""
        },
        {
         "metadata": "{}",
         "name": "modificationTime",
         "type": "\"long\""
        }
       ],
       "type": "table"
      }
     },
     "output_type": "display_data"
    }
   ],
   "source": [
    "# Retrieve a list of files and directories located at the specified path (\"/mnt/deBDProject\") within the Databricks filesystem.\n",
    "# The dbutils.fs.ls() function is used to list files and directories in the Databricks filesystem.\n",
    "display(\n",
    "  dbutils.fs.ls(\"/mnt/deBDProject\")\n",
    ")"
   ]
  },
  {
   "cell_type": "code",
   "execution_count": 0,
   "metadata": {
    "application/vnd.databricks.v1+cell": {
     "cellMetadata": {
      "byteLimit": 2048000,
      "rowLimit": 10000
     },
     "inputWidgets": {},
     "nuid": "baeca951-1ce9-461e-87c9-ece7e494ef89",
     "showTitle": false,
     "title": ""
    }
   },
   "outputs": [
    {
     "output_type": "display_data",
     "data": {
      "text/html": [
       "<style scoped>\n",
       "  .table-result-container {\n",
       "    max-height: 300px;\n",
       "    overflow: auto;\n",
       "  }\n",
       "  table, th, td {\n",
       "    border: 1px solid black;\n",
       "    border-collapse: collapse;\n",
       "  }\n",
       "  th, td {\n",
       "    padding: 5px;\n",
       "  }\n",
       "  th {\n",
       "    text-align: left;\n",
       "  }\n",
       "</style><div class='table-result-container'><table class='table-result'><thead style='background-color: white'><tr><th>path</th><th>name</th><th>size</th><th>modificationTime</th></tr></thead><tbody><tr><td>dbfs:/mnt/deBDProject/landing/Archive/</td><td>Archive/</td><td>0</td><td>1715216854000</td></tr><tr><td>dbfs:/mnt/deBDProject/landing/Logs/</td><td>Logs/</td><td>0</td><td>1715216223000</td></tr><tr><td>dbfs:/mnt/deBDProject/landing/PostTypes/</td><td>PostTypes/</td><td>0</td><td>1715207638000</td></tr><tr><td>dbfs:/mnt/deBDProject/landing/posts/</td><td>posts/</td><td>0</td><td>1715207570000</td></tr><tr><td>dbfs:/mnt/deBDProject/landing/users/</td><td>users/</td><td>0</td><td>1715207609000</td></tr></tbody></table></div>"
      ]
     },
     "metadata": {
      "application/vnd.databricks.v1+output": {
       "addedWidgets": {},
       "aggData": [],
       "aggError": "",
       "aggOverflow": false,
       "aggSchema": [],
       "aggSeriesLimitReached": false,
       "aggType": "",
       "arguments": {},
       "columnCustomDisplayInfos": {},
       "data": [
        [
         "dbfs:/mnt/deBDProject/landing/Archive/",
         "Archive/",
         0,
         1715216854000
        ],
        [
         "dbfs:/mnt/deBDProject/landing/Logs/",
         "Logs/",
         0,
         1715216223000
        ],
        [
         "dbfs:/mnt/deBDProject/landing/PostTypes/",
         "PostTypes/",
         0,
         1715207638000
        ],
        [
         "dbfs:/mnt/deBDProject/landing/posts/",
         "posts/",
         0,
         1715207570000
        ],
        [
         "dbfs:/mnt/deBDProject/landing/users/",
         "users/",
         0,
         1715207609000
        ]
       ],
       "datasetInfos": [],
       "dbfsResultPath": null,
       "isJsonSchema": true,
       "metadata": {},
       "overflow": false,
       "plotOptions": {
        "customPlotOptions": {},
        "displayType": "table",
        "pivotAggregation": null,
        "pivotColumns": null,
        "xColumns": null,
        "yColumns": null
       },
       "removedWidgets": [],
       "schema": [
        {
         "metadata": "{}",
         "name": "path",
         "type": "\"string\""
        },
        {
         "metadata": "{}",
         "name": "name",
         "type": "\"string\""
        },
        {
         "metadata": "{}",
         "name": "size",
         "type": "\"long\""
        },
        {
         "metadata": "{}",
         "name": "modificationTime",
         "type": "\"long\""
        }
       ],
       "type": "table"
      }
     },
     "output_type": "display_data"
    }
   ],
   "source": [
    "# Retrieve a list of files and directories located at the specified path (\"/mnt/deBDProject/landing\") within the Databricks filesystem.\n",
    "# The dbutils.fs.ls() function is used to list files and directories in the Databricks filesystem.\n",
    "display(\n",
    "  dbutils.fs.ls(\"/mnt/deBDProject/landing\")\n",
    ")"
   ]
  }
 ],
 "metadata": {
  "application/vnd.databricks.v1+notebook": {
   "dashboards": [],
   "language": "python",
   "notebookMetadata": {
    "pythonIndentUnit": 4
   },
   "notebookName": "Mount_storage_container",
   "widgets": {}
  }
 },
 "nbformat": 4,
 "nbformat_minor": 0
}
